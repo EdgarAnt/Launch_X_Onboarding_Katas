{
 "cells": [
  {
   "cell_type": "markdown",
   "metadata": {},
   "source": [
    "LA TIERRA ESTA EN PELIGRO\n",
    "(Calcula la velocidas para verificar si estamos en peligro)"
   ]
  },
  {
   "cell_type": "code",
   "execution_count": 7,
   "metadata": {},
   "outputs": [
    {
     "name": "stdout",
     "output_type": "stream",
     "text": [
      "Asteoide super peligroso impactara la tierra\n"
     ]
    }
   ],
   "source": [
    "asteroide=26\n",
    "if asteroide >25:\n",
    "    print('Asteroide super peligroso impactara la tierra')\n",
    "else:\n",
    "    print('Nada pasara aqui')"
   ]
  },
  {
   "cell_type": "markdown",
   "metadata": {},
   "source": [
    "\"MIRAS EL ASTEROIDE\""
   ]
  },
  {
   "cell_type": "code",
   "execution_count": 8,
   "metadata": {},
   "outputs": [
    {
     "name": "stdout",
     "output_type": "stream",
     "text": [
      "Donde esta el cometa no hay nada aqui\n"
     ]
    }
   ],
   "source": [
    "asteroide=19\n",
    "if asteroide > 20:\n",
    "    print(\"Mira es un cometa :D\")\n",
    "elif asteroide==20:\n",
    "    print(\"Mira es un cometa :D\")\n",
    "else:\n",
    "    print('Donde esta el cometa no hay nada aqui')"
   ]
  },
  {
   "cell_type": "markdown",
   "metadata": {},
   "source": [
    "POSIBLE DESTRUCCION DE LA TIERRA O VISUALIZACION HERMOSA DE UNA ESTRELLA FUGAZ"
   ]
  },
  {
   "cell_type": "code",
   "execution_count": 10,
   "metadata": {},
   "outputs": [
    {
     "name": "stdout",
     "output_type": "stream",
     "text": [
      "Mira es un cometa :D\n"
     ]
    }
   ],
   "source": [
    "vel=20\n",
    "tam=30\n",
    "if vel > 30 and tam > 30:\n",
    "    print('Asteroide super peligroso impactara la tierra')\n",
    "elif vel >= 20:\n",
    "    print('Mira es un cometa :D')\n",
    "elif tam < 25:\n",
    "    print('Donde esta el cometa no hay nada aqui')\n",
    "else:\n",
    "    print('Donde esta el cometa no hay nada aqui')"
   ]
  }
 ],
 "metadata": {
  "interpreter": {
   "hash": "f23faf4bfe871c203c8bec80520af5927fc7cb1ae3bd834ddf554ee587ad1c05"
  },
  "kernelspec": {
   "display_name": "Python 3.8.10 64-bit",
   "language": "python",
   "name": "python3"
  },
  "language_info": {
   "codemirror_mode": {
    "name": "ipython",
    "version": 3
   },
   "file_extension": ".py",
   "mimetype": "text/x-python",
   "name": "python",
   "nbconvert_exporter": "python",
   "pygments_lexer": "ipython3",
   "version": "3.8.10"
  },
  "orig_nbformat": 4
 },
 "nbformat": 4,
 "nbformat_minor": 2
}
